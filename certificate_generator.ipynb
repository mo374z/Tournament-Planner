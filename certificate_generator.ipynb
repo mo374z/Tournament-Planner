{
 "cells": [
  {
   "cell_type": "code",
   "execution_count": 4,
   "metadata": {},
   "outputs": [
    {
     "name": "stdout",
     "output_type": "stream",
     "text": [
      "Collecting PyPDF2\n",
      "  Downloading pypdf2-3.0.1-py3-none-any.whl (232 kB)\n",
      "     -------------------------------------- 232.6/232.6 kB 4.7 MB/s eta 0:00:00\n",
      "Requirement already satisfied: typing_extensions>=3.10.0.0 in c:\\users\\schla\\anaconda3\\lib\\site-packages (from PyPDF2) (4.7.1)\n",
      "Installing collected packages: PyPDF2\n",
      "Successfully installed PyPDF2-3.0.1\n"
     ]
    },
    {
     "name": "stderr",
     "output_type": "stream",
     "text": [
      "WARNING: Ignoring invalid distribution -rotobuf (c:\\users\\schla\\anaconda3\\lib\\site-packages)\n",
      "WARNING: Ignoring invalid distribution -rotobuf (c:\\users\\schla\\anaconda3\\lib\\site-packages)\n",
      "WARNING: Ignoring invalid distribution -rotobuf (c:\\users\\schla\\anaconda3\\lib\\site-packages)\n",
      "WARNING: Ignoring invalid distribution -rotobuf (c:\\users\\schla\\anaconda3\\lib\\site-packages)\n",
      "WARNING: Ignoring invalid distribution -rotobuf (c:\\users\\schla\\anaconda3\\lib\\site-packages)\n",
      "WARNING: Ignoring invalid distribution -rotobuf (c:\\users\\schla\\anaconda3\\lib\\site-packages)\n",
      "WARNING: Ignoring invalid distribution -rotobuf (c:\\users\\schla\\anaconda3\\lib\\site-packages)\n"
     ]
    }
   ],
   "source": [
    "!pip install PyPDF2"
   ]
  },
  {
   "cell_type": "code",
   "execution_count": 16,
   "metadata": {},
   "outputs": [
    {
     "ename": "TypeError",
     "evalue": "add_page() missing 1 required positional argument: 'page'",
     "output_type": "error",
     "traceback": [
      "\u001b[1;31m---------------------------------------------------------------------------\u001b[0m",
      "\u001b[1;31mTypeError\u001b[0m                                 Traceback (most recent call last)",
      "Cell \u001b[1;32mIn [16], line 64\u001b[0m\n\u001b[0;32m     57\u001b[0m image_path \u001b[38;5;241m=\u001b[39m \u001b[38;5;124m\"\u001b[39m\u001b[38;5;124mtestphoto.jpeg\u001b[39m\u001b[38;5;124m\"\u001b[39m  \u001b[38;5;66;03m# replace with your image path\u001b[39;00m\n\u001b[0;32m     58\u001b[0m text_fields \u001b[38;5;241m=\u001b[39m [\n\u001b[0;32m     59\u001b[0m     (\u001b[38;5;124m\"\u001b[39m\u001b[38;5;124mText Field 1\u001b[39m\u001b[38;5;124m\"\u001b[39m, \u001b[38;5;241m100\u001b[39m, \u001b[38;5;241m400\u001b[39m),\n\u001b[0;32m     60\u001b[0m     (\u001b[38;5;124m\"\u001b[39m\u001b[38;5;124mText Field 2\u001b[39m\u001b[38;5;124m\"\u001b[39m, \u001b[38;5;241m100\u001b[39m, \u001b[38;5;241m300\u001b[39m),\n\u001b[0;32m     61\u001b[0m     \u001b[38;5;66;03m# Add more text fields as needed\u001b[39;00m\n\u001b[0;32m     62\u001b[0m ]\n\u001b[1;32m---> 64\u001b[0m \u001b[43minsert_pdf_and_text\u001b[49m\u001b[43m(\u001b[49m\u001b[43minput_pdf_path\u001b[49m\u001b[43m,\u001b[49m\u001b[43m \u001b[49m\u001b[43moutput_pdf_path\u001b[49m\u001b[43m,\u001b[49m\u001b[43m \u001b[49m\u001b[43mimage_path\u001b[49m\u001b[43m,\u001b[49m\u001b[43m \u001b[49m\u001b[43mtext_fields\u001b[49m\u001b[43m)\u001b[49m\n",
      "Cell \u001b[1;32mIn [16], line 42\u001b[0m, in \u001b[0;36minsert_pdf_and_text\u001b[1;34m(input_pdf, output_pdf, image_path, text_fields)\u001b[0m\n\u001b[0;32m     40\u001b[0m \u001b[38;5;66;03m# Create a new PDF writer for the image\u001b[39;00m\n\u001b[0;32m     41\u001b[0m image_output \u001b[38;5;241m=\u001b[39m PdfWriter()\n\u001b[1;32m---> 42\u001b[0m image_page \u001b[38;5;241m=\u001b[39m \u001b[43mimage_output\u001b[49m\u001b[38;5;241;43m.\u001b[39;49m\u001b[43madd_page\u001b[49m\u001b[43m(\u001b[49m\u001b[43m)\u001b[49m\n\u001b[0;32m     43\u001b[0m image_page\u001b[38;5;241m.\u001b[39mmerge_translated_page(page)\n\u001b[0;32m     44\u001b[0m image_output\u001b[38;5;241m.\u001b[39mwrite(\u001b[38;5;28mopen\u001b[39m(\u001b[38;5;124m\"\u001b[39m\u001b[38;5;124mtemp_image.pdf\u001b[39m\u001b[38;5;124m\"\u001b[39m, \u001b[38;5;124m\"\u001b[39m\u001b[38;5;124mwb\u001b[39m\u001b[38;5;124m\"\u001b[39m))\n",
      "\u001b[1;31mTypeError\u001b[0m: add_page() missing 1 required positional argument: 'page'"
     ]
    }
   ],
   "source": [
    "from PyPDF2 import PdfReader, PdfWriter\n",
    "from reportlab.pdfgen import canvas\n",
    "from reportlab.lib.pagesizes import letter\n",
    "from reportlab.lib.units import inch\n",
    "from PIL import Image\n",
    "import io\n",
    "\n",
    "def insert_pdf_and_text(input_pdf, output_pdf, image_path, text_fields):\n",
    "    # Create a canvas object\n",
    "    packet = io.BytesIO()\n",
    "    can = canvas.Canvas(packet, pagesize=letter)\n",
    "\n",
    "    # Insert text fields\n",
    "    for field in text_fields:\n",
    "        text, x, y = field\n",
    "        can.setFont(\"Helvetica\", 12)  # adjust font and size as needed\n",
    "        can.drawString(x, y, text)\n",
    "\n",
    "    # Save the canvas to the packet\n",
    "    can.save()\n",
    "\n",
    "    # Move to the beginning of the buffer\n",
    "    packet.seek(0)\n",
    "    new_pdf = PdfReader(packet)\n",
    "\n",
    "    # Read the existing PDF\n",
    "    existing_pdf = PdfReader(open(input_pdf, \"rb\"))\n",
    "\n",
    "    # Create a new PDF writer\n",
    "    output = PdfWriter()\n",
    "\n",
    "    # Merge the existing PDF and the new PDF with text fields\n",
    "    page = existing_pdf.pages[0]\n",
    "    page.merge_page(new_pdf.pages[0])\n",
    "    output.add_page(page)\n",
    "\n",
    "    # Open the image using Pillow\n",
    "    image = Image.open(image_path)\n",
    "\n",
    "    # Create a new PDF writer for the image\n",
    "    image_output = PdfWriter()\n",
    "    image_page = image_output.add_page()\n",
    "    image_page.merge_translated_page(page)\n",
    "    image_output.write(open(\"temp_image.pdf\", \"wb\"))\n",
    "\n",
    "    # Add the image PDF to the new PDF\n",
    "    image_pdf = PdfReader(\"temp_image.pdf\")\n",
    "    output.add_page(image_pdf.pages[0])\n",
    "\n",
    "    # Write the result to the output PDF file\n",
    "    with open(output_pdf, \"wb\") as outputStream:\n",
    "        output.write(outputStream)\n",
    "\n",
    "# Example usage\n",
    "input_pdf_path = \"Urkunde_template_empty.pdf\"  # replace with your input PDF path\n",
    "output_pdf_path = \"output_document.pdf\"  # replace with your output PDF path\n",
    "image_path = \"testphoto.jpeg\"  # replace with your image path\n",
    "text_fields = [\n",
    "    (\"Text Field 1\", 100, 400),\n",
    "    (\"Text Field 2\", 100, 300),\n",
    "    # Add more text fields as needed\n",
    "]\n",
    "\n",
    "insert_pdf_and_text(input_pdf_path, output_pdf_path, image_path, text_fields)\n"
   ]
  },
  {
   "cell_type": "code",
   "execution_count": null,
   "metadata": {},
   "outputs": [],
   "source": [
    "# write down the abc formula\n",
    "\n",
    "def mnf(a,b,c):\n",
    "    d = b**2 - 4*a*c\n",
    "    if d < 0:\n",
    "        return \"Keine reelle Lösung\"\n",
    "    elif d == 0:\n",
    "        return -b/(2*a)\n",
    "    else:\n",
    "        return (-b + d**0.5)/(2*a), (-b - d**0.5)/(2*a)"
   ]
  }
 ],
 "metadata": {
  "kernelspec": {
   "display_name": "base",
   "language": "python",
   "name": "python3"
  },
  "language_info": {
   "codemirror_mode": {
    "name": "ipython",
    "version": 3
   },
   "file_extension": ".py",
   "mimetype": "text/x-python",
   "name": "python",
   "nbconvert_exporter": "python",
   "pygments_lexer": "ipython3",
   "version": "3.9.7"
  }
 },
 "nbformat": 4,
 "nbformat_minor": 2
}
